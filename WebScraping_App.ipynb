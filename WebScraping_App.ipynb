{
  "nbformat": 4,
  "nbformat_minor": 0,
  "metadata": {
    "colab": {
      "name": "WebScraping App.ipynb",
      "provenance": [],
      "collapsed_sections": [],
      "authorship_tag": "ABX9TyPSNxs2cj6RwLDX8Uvh0vJ2",
      "include_colab_link": true
    },
    "kernelspec": {
      "name": "python3",
      "display_name": "Python 3"
    }
  },
  "cells": [
    {
      "cell_type": "markdown",
      "metadata": {
        "id": "view-in-github",
        "colab_type": "text"
      },
      "source": [
        "<a href=\"https://colab.research.google.com/github/frankcsa78/PowerBI-DataScience/blob/master/WebScraping_App.ipynb\" target=\"_parent\"><img src=\"https://colab.research.google.com/assets/colab-badge.svg\" alt=\"Open In Colab\"/></a>"
      ]
    },
    {
      "cell_type": "code",
      "metadata": {
        "id": "a90sIX32pWCa"
      },
      "source": [
        "# importando todos os modulos de dependencia\r\n",
        "import pandas as pd\r\n",
        "from urllib.request import urlopen\r\n",
        "from urllib.error import HTTPError, URLError\r\n",
        "from bs4 import BeautifulSoup"
      ],
      "execution_count": 11,
      "outputs": []
    },
    {
      "cell_type": "code",
      "metadata": {
        "id": "GjUwhJ7Rqfcr"
      },
      "source": [
        "# url Base\r\n",
        "url = 'https://www.imdb.com/chart/top/'"
      ],
      "execution_count": 12,
      "outputs": []
    },
    {
      "cell_type": "code",
      "metadata": {
        "id": "WjYM0JUerBqV"
      },
      "source": [
        "try:\r\n",
        "  html = urlopen('https://www.imdb.com/chart/top/')\r\n",
        "except HTTPError as e:\r\n",
        "  print(e)\r\n",
        "except URLError as e:\r\n",
        "  print('O URL não foi encontrado')"
      ],
      "execution_count": 35,
      "outputs": []
    },
    {
      "cell_type": "code",
      "metadata": {
        "id": "K8JBYBoBrSaf"
      },
      "source": [
        "# criar a instancia de BeautifulSoup\r\n",
        "bs = BeautifulSoup(html, 'lxml')\r\n",
        "# selecionar todos os elementos tr dentro da classe Lister-list\r\n",
        "movies = bs.select('.lister-list tr')"
      ],
      "execution_count": 36,
      "outputs": []
    },
    {
      "cell_type": "code",
      "metadata": {
        "id": "icIPb5Dgu743"
      },
      "source": [
        "# criando as listas para armazenar os dados que serão extraidos do site\r\n",
        "titles = []\r\n",
        "directors_writers = []\r\n",
        "years = []\r\n",
        "ratings = []"
      ],
      "execution_count": 37,
      "outputs": []
    },
    {
      "cell_type": "code",
      "metadata": {
        "id": "UhiaRZEjwPvT"
      },
      "source": [
        "# criando o loop for para inserir os dados dentro das nossas listas\r\n",
        "for movie in movies:\r\n",
        "  # inserir o nome do filme\r\n",
        "  titles.append(movie.find('td', class_='titleColumn').find('a').get_text())\r\n",
        "  # inserir os nomes dos diretores e/ou roteristas e/ou elenco principal\r\n",
        "  directors_writers.append(movie.find('td', class_='titleColumn').find('a')['title'])\r\n",
        "  # inserir os anos de lançamento dos filmes\r\n",
        "  years.append(movie.find('td', class_='titleColumn').find('span').get_text()[1:5])\r\n",
        "  # inserir as notas de classificação de cada um dos filmes\r\n",
        "  ratings.append(movie.find('td', class_='imdbRating').find('strong').get_text())"
      ],
      "execution_count": 45,
      "outputs": []
    },
    {
      "cell_type": "code",
      "metadata": {
        "id": "mqULg06NzOfA"
      },
      "source": [
        "# Intro ao Pandas - criação do DataFrame\r\n",
        "df = pd.DataFrame({'Titulo': titles, 'Ano de lançamento': years,\r\n",
        "                   'Classificação': ratings, \r\n",
        "                   'Diretores ou roteristas': directors_writers})"
      ],
      "execution_count": 46,
      "outputs": []
    },
    {
      "cell_type": "code",
      "metadata": {
        "colab": {
          "base_uri": "https://localhost:8080/",
          "height": 402
        },
        "id": "AHQcVmYj1WVQ",
        "outputId": "3231feaf-ef60-4c33-8ff5-9db5c54e0c5f"
      },
      "source": [
        "df"
      ],
      "execution_count": 50,
      "outputs": [
        {
          "output_type": "execute_result",
          "data": {
            "text/html": [
              "<div>\n",
              "<style scoped>\n",
              "    .dataframe tbody tr th:only-of-type {\n",
              "        vertical-align: middle;\n",
              "    }\n",
              "\n",
              "    .dataframe tbody tr th {\n",
              "        vertical-align: top;\n",
              "    }\n",
              "\n",
              "    .dataframe thead th {\n",
              "        text-align: right;\n",
              "    }\n",
              "</style>\n",
              "<table border=\"1\" class=\"dataframe\">\n",
              "  <thead>\n",
              "    <tr style=\"text-align: right;\">\n",
              "      <th></th>\n",
              "      <th>Titulo</th>\n",
              "      <th>Ano de lançamento</th>\n",
              "      <th>Classificação</th>\n",
              "      <th>Diretores ou roteristas</th>\n",
              "    </tr>\n",
              "  </thead>\n",
              "  <tbody>\n",
              "    <tr>\n",
              "      <th>0</th>\n",
              "      <td>The Shawshank Redemption</td>\n",
              "      <td>1994</td>\n",
              "      <td>9.2</td>\n",
              "      <td>Frank Darabont (dir.), Tim Robbins, Morgan Fre...</td>\n",
              "    </tr>\n",
              "    <tr>\n",
              "      <th>1</th>\n",
              "      <td>The Godfather</td>\n",
              "      <td>1972</td>\n",
              "      <td>9.1</td>\n",
              "      <td>Francis Ford Coppola (dir.), Marlon Brando, Al...</td>\n",
              "    </tr>\n",
              "    <tr>\n",
              "      <th>2</th>\n",
              "      <td>The Godfather: Part II</td>\n",
              "      <td>1974</td>\n",
              "      <td>9.0</td>\n",
              "      <td>Francis Ford Coppola (dir.), Al Pacino, Robert...</td>\n",
              "    </tr>\n",
              "    <tr>\n",
              "      <th>3</th>\n",
              "      <td>The Dark Knight</td>\n",
              "      <td>2008</td>\n",
              "      <td>9.0</td>\n",
              "      <td>Christopher Nolan (dir.), Christian Bale, Heat...</td>\n",
              "    </tr>\n",
              "    <tr>\n",
              "      <th>4</th>\n",
              "      <td>12 Angry Men</td>\n",
              "      <td>1957</td>\n",
              "      <td>8.9</td>\n",
              "      <td>Sidney Lumet (dir.), Henry Fonda, Lee J. Cobb</td>\n",
              "    </tr>\n",
              "    <tr>\n",
              "      <th>...</th>\n",
              "      <td>...</td>\n",
              "      <td>...</td>\n",
              "      <td>...</td>\n",
              "      <td>...</td>\n",
              "    </tr>\n",
              "    <tr>\n",
              "      <th>245</th>\n",
              "      <td>The Invisible Guest</td>\n",
              "      <td>2016</td>\n",
              "      <td>8.0</td>\n",
              "      <td>Oriol Paulo (dir.), Mario Casas, Ana Wagener</td>\n",
              "    </tr>\n",
              "    <tr>\n",
              "      <th>246</th>\n",
              "      <td>A Silent Voice: The Movie</td>\n",
              "      <td>2016</td>\n",
              "      <td>8.0</td>\n",
              "      <td>Naoko Yamada (dir.), Miyu Irino, Saori Hayami</td>\n",
              "    </tr>\n",
              "    <tr>\n",
              "      <th>247</th>\n",
              "      <td>Miracle in cell NO.7</td>\n",
              "      <td>2019</td>\n",
              "      <td>8.0</td>\n",
              "      <td>Mehmet Ada Öztekin (dir.), Aras Bulut Iynemli,...</td>\n",
              "    </tr>\n",
              "    <tr>\n",
              "      <th>248</th>\n",
              "      <td>The Battle of Algiers</td>\n",
              "      <td>1966</td>\n",
              "      <td>8.0</td>\n",
              "      <td>Gillo Pontecorvo (dir.), Brahim Hadjadj, Jean ...</td>\n",
              "    </tr>\n",
              "    <tr>\n",
              "      <th>249</th>\n",
              "      <td>The Help</td>\n",
              "      <td>2011</td>\n",
              "      <td>8.0</td>\n",
              "      <td>Tate Taylor (dir.), Emma Stone, Viola Davis</td>\n",
              "    </tr>\n",
              "  </tbody>\n",
              "</table>\n",
              "<p>250 rows × 4 columns</p>\n",
              "</div>"
            ],
            "text/plain": [
              "                        Titulo  ...                            Diretores ou roteristas\n",
              "0     The Shawshank Redemption  ...  Frank Darabont (dir.), Tim Robbins, Morgan Fre...\n",
              "1                The Godfather  ...  Francis Ford Coppola (dir.), Marlon Brando, Al...\n",
              "2       The Godfather: Part II  ...  Francis Ford Coppola (dir.), Al Pacino, Robert...\n",
              "3              The Dark Knight  ...  Christopher Nolan (dir.), Christian Bale, Heat...\n",
              "4                 12 Angry Men  ...      Sidney Lumet (dir.), Henry Fonda, Lee J. Cobb\n",
              "..                         ...  ...                                                ...\n",
              "245        The Invisible Guest  ...       Oriol Paulo (dir.), Mario Casas, Ana Wagener\n",
              "246  A Silent Voice: The Movie  ...      Naoko Yamada (dir.), Miyu Irino, Saori Hayami\n",
              "247       Miracle in cell NO.7  ...  Mehmet Ada Öztekin (dir.), Aras Bulut Iynemli,...\n",
              "248      The Battle of Algiers  ...  Gillo Pontecorvo (dir.), Brahim Hadjadj, Jean ...\n",
              "249                   The Help  ...        Tate Taylor (dir.), Emma Stone, Viola Davis\n",
              "\n",
              "[250 rows x 4 columns]"
            ]
          },
          "metadata": {
            "tags": []
          },
          "execution_count": 50
        }
      ]
    },
    {
      "cell_type": "code",
      "metadata": {
        "id": "nXJsq1CD3Jar"
      },
      "source": [
        "# gerando o arquivo .csv do nosso dataframe\r\n",
        "df.to_csv('WebScraping-IMBD.csv')"
      ],
      "execution_count": 48,
      "outputs": []
    },
    {
      "cell_type": "code",
      "metadata": {
        "id": "cvc9X4eN5fIV"
      },
      "source": [
        "# gerando o arquivo .xlsx do nosso dataframe\r\n",
        "df.to_excel('WebScraping-IMBD.xlsx')"
      ],
      "execution_count": 49,
      "outputs": []
    },
    {
      "cell_type": "code",
      "metadata": {
        "id": "9vpOWgtl5q6R"
      },
      "source": [
        ""
      ],
      "execution_count": null,
      "outputs": []
    }
  ]
}